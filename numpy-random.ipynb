{
 "cells": [
  {
   "cell_type": "markdown",
   "metadata": {},
   "source": [
    "# Analysing the numpy.random Package"
   ]
  },
  {
   "cell_type": "markdown",
   "metadata": {},
   "source": [
    "## Introduction"
   ]
  },
  {
   "cell_type": "code",
   "execution_count": 1,
   "metadata": {},
   "outputs": [],
   "source": [
    "# https://docs.scipy.org/doc/numpy-1.14.0/reference/routines.random.html\n",
    "import numpy as np\n",
    "import seaborn as sns\n",
    "import matplotlib.pyplot as plt\n",
    "import pandas as pd"
   ]
  },
  {
   "cell_type": "markdown",
   "metadata": {},
   "source": [
    "NumPy (shorthand for Numerical Python) is a package used in Python for working with multidimensional arrays and matrices. An array is a data structure that contains a group of elements. Typically these elements are all of the same data type, such as an integer or string. Arrays are commonly used in computer programs to organize data so that a related set of values can be easily sorted or searched. When we add differnet dimensions to these arrays, simple operations such as addition can become quite complex. This library allows us to preform mathematical operations on these complex structures [2]. It also enables arithmetic reading and writing operations on large arrays of data without the need to write for or while loops [1].\n",
    "\n",
    "These multi dimensional array objects are know as ndarrays in numpy. Ndarrays are fast and flexible containers for large datasets in Python. Arrays enable you to perform mathematical operations on whole blocks of data using similar syntax to the equivalent operations between scalar elements[1]. NumPy can also be used with other packages such as matplotlib and Pandas to create plots and summarise stastical data.\n",
    "\n",
    "An important part of any simulation is the ability to generate random numbers. For this reason, NumPy has the random submodule[3]. A random number generator can generate an array of numbers that cannot reasonably predicted better than by random chance. The numpy.random module supplements the built-in Python random with functions for efficiently generating whole arrays of sample values from many kinds of probability distributions[1]. For example, you can get a 4 × 4 array of samples from the standard normal distribution using normal:"
   ]
  },
  {
   "cell_type": "code",
   "execution_count": 2,
   "metadata": {},
   "outputs": [
    {
     "data": {
      "text/plain": [
       "array([[ 0.70883589,  1.12508029, -0.3793816 , -0.55864233],\n",
       "       [ 0.86244044,  0.24445732,  1.67942632, -0.21697942],\n",
       "       [-0.90900816,  0.58034393,  0.24193795, -0.80888146],\n",
       "       [-0.76516837, -0.12124185,  0.74700782, -0.43906167]])"
      ]
     },
     "execution_count": 2,
     "metadata": {},
     "output_type": "execute_result"
    }
   ],
   "source": [
    "example = np.random.normal(size=(4, 4))\n",
    "example"
   ]
  },
  {
   "cell_type": "markdown",
   "metadata": {},
   "source": [
    "Some simple examples of random number generators are rolling a dice, a roulette wheel or coin flipping. Random number generators have a wide range of applications. For example, if you are investigating a system, and you know the statistical properties of this system (eg a binomial distriubtion), you could save alot of time. Instead of collecting sample data, you could simply use numpy.random to generate data that would be similar to the systems distribution. Preforming an experiment using randomly generated data is called a simulation[4]. \n",
    "\n",
    "Generally the numpy.random package is used to generate various types and distributions of datasets, which in turn can be used in the development, evaluation and exploration of various libraries and analytical methods[5]."
   ]
  },
  {
   "cell_type": "markdown",
   "metadata": {},
   "source": [
    "Numpy.random is very fast at generating sample data. In comparsion Python's standard random module will only sample one value at a time. If we look at the benchmark of these numpy.random is much faster for getting large samples[1]. This makes it very useful when we need large samples quickly."
   ]
  },
  {
   "cell_type": "code",
   "execution_count": 3,
   "metadata": {},
   "outputs": [
    {
     "name": "stdout",
     "output_type": "stream",
     "text": [
      "1.29 s ± 56.2 ms per loop (mean ± std. dev. of 7 runs, 1 loop each)\n"
     ]
    }
   ],
   "source": [
    "from random import normalvariate\n",
    "N = 1000000\n",
    "# looking at built in random speed\n",
    "%timeit samples = [normalvariate(0, 1) for _ in range(N)]"
   ]
  },
  {
   "cell_type": "code",
   "execution_count": 4,
   "metadata": {},
   "outputs": [
    {
     "name": "stdout",
     "output_type": "stream",
     "text": [
      "45 ms ± 990 µs per loop (mean ± std. dev. of 7 runs, 10 loops each)\n"
     ]
    }
   ],
   "source": [
    "# looking at np.random speed\n",
    "%timeit np.random.normal(size=N)"
   ]
  },
  {
   "cell_type": "markdown",
   "metadata": {},
   "source": [
    "## Simple Random Data\n",
    "The sample random data functions are used to generate sequences of random numbers. For example the numpy.random.bytes will give us a number of random bytes in a string format of length 6"
   ]
  },
  {
   "cell_type": "code",
   "execution_count": 5,
   "metadata": {},
   "outputs": [
    {
     "data": {
      "text/plain": [
       "b'\\xfb^\\xe2l\\x1d\\xd2'"
      ]
     },
     "execution_count": 5,
     "metadata": {},
     "output_type": "execute_result"
    }
   ],
   "source": [
    "np.random.bytes(6)"
   ]
  },
  {
   "cell_type": "markdown",
   "metadata": {},
   "source": [
    "In the NumPy simple random functions documentation, there are ten functions listed for Random Sampling. Each of these functions lists different distributions that the data will be spread across; uniform, uniform sample, discrete uniform (additionally between low and high values), continuous uniform and standard normal distributions. \n",
    "\n",
    "In uniform distributions samples are evenly spread [9]. In standard normal distributions, there is a central tendancy, in other words the values tend to cluster around the mean, mode and median values [10]. \n",
    "\n",
    "Discrete data can only take particular values and can be seperated into classifications. Discrete data can be numeric -- like numbers of apples -- but it can also be categorical -- like red or blue, or male or female, or good or bad [11]. Continuous data has an infinate number of values in a specified range. It is quantitative and therefore can be counted. Continuous data are always essentially numeric [11]."
   ]
  },
  {
   "cell_type": "markdown",
   "metadata": {},
   "source": [
    " A good real world example of this would be simulating dice rolls using the randint function. In analysing dicerolls we would assume each face of the dice has an equal chance of occuring. Therefore it makes sense to use the randint function which will give us random integers in a uniform distribution"
   ]
  },
  {
   "cell_type": "code",
   "execution_count": 6,
   "metadata": {},
   "outputs": [
    {
     "data": {
      "text/plain": [
       "<matplotlib.axes._subplots.AxesSubplot at 0x1a6896428d0>"
      ]
     },
     "execution_count": 6,
     "metadata": {},
     "output_type": "execute_result"
    },
    {
     "data": {
      "image/png": "[encoded data removed]",
      "text/plain": [
       "<Figure size 432x288 with 1 Axes>"
      ]
     },
     "metadata": {
      "needs_background": "light"
     },
     "output_type": "display_data"
    }
   ],
   "source": [
    "# 100 dice rolls\n",
    "diceroll = np.random.randint(1, 7 ,size=(100))\n",
    "# [7]\n",
    "sns.countplot(diceroll)"
   ]
  },
  {
   "cell_type": "code",
   "execution_count": 7,
   "metadata": {},
   "outputs": [
    {
     "data": {
      "text/plain": [
       "<matplotlib.axes._subplots.AxesSubplot at 0x1a68ac88470>"
      ]
     },
     "execution_count": 7,
     "metadata": {},
     "output_type": "execute_result"
    },
    {
     "data": {
      "image/png": "[encoded data removed]",
      "text/plain": [
       "<Figure size 432x288 with 1 Axes>"
      ]
     },
     "metadata": {
      "needs_background": "light"
     },
     "output_type": "display_data"
    }
   ],
   "source": [
    "# 1000 dicerolls\n",
    "diceroll1 = np.random.randint(1, 7 ,size=(1000))\n",
    "sns.countplot(diceroll1)"
   ]
  },
  {
   "cell_type": "code",
   "execution_count": 8,
   "metadata": {},
   "outputs": [
    {
     "data": {
      "text/plain": [
       "<matplotlib.axes._subplots.AxesSubplot at 0x1a68ae435c0>"
      ]
     },
     "execution_count": 8,
     "metadata": {},
     "output_type": "execute_result"
    },
    {
     "data": {
      "image/png": "[encoded data removed]",
      "text/plain": [
       "<Figure size 432x288 with 1 Axes>"
      ]
     },
     "metadata": {
      "needs_background": "light"
     },
     "output_type": "display_data"
    }
   ],
   "source": [
    "# 100000 dicerolls\n",
    "diceroll2 = np.random.randint(1, 7, size = (100000))\n",
    "sns.countplot(diceroll2)"
   ]
  },
  {
   "cell_type": "markdown",
   "metadata": {},
   "source": [
    "In this example we use randint(1, 7) to generate an array of numbers between 1 and 6. Our size in this example will be the number of times we roll the dice, and the integers correspond to their matching face on the die. Using the plots above with different sample sizes, we can test the distribution of the dataset.\n",
    "\n",
    "So in this simple example we can see the effect sample size can have on distribution, as the sample size increases the distribution of values becomes more uniform."
   ]
  },
  {
   "cell_type": "markdown",
   "metadata": {},
   "source": [
    "## Permutations"
   ]
  },
  {
   "cell_type": "markdown",
   "metadata": {},
   "source": [
    "The purpose of a permutations function is to arrange a series of numbers or a list [8]. These functions can also be used to change the order of samples in a given range or list. Permutations can either shuffle the dataset by acting on it directly or creating a shuffled copy of the set using the permutation functions in the random package [6].\n",
    "\n",
    "Thinking about shuffling data, a great real world example of this would be shuffling a deck of cards."
   ]
  },
  {
   "cell_type": "code",
   "execution_count": 9,
   "metadata": {},
   "outputs": [
    {
     "data": {
      "text/plain": [
       "array([ 1,  2,  3,  4,  5,  6,  7,  8,  9, 10, 11, 12, 13, 14, 15, 16, 17,\n",
       "       18, 19, 20, 21, 22, 23, 24, 25, 26, 27, 28, 29, 30, 31, 32, 33, 34,\n",
       "       35, 36, 37, 38, 39, 40, 41, 42, 43, 44, 45, 46, 47, 48, 49, 50, 51,\n",
       "       52])"
      ]
     },
     "execution_count": 9,
     "metadata": {},
     "output_type": "execute_result"
    }
   ],
   "source": [
    "# numbers 1 to 52 each representing a card in a deck\n",
    "deck = np.arange(1, 53)\n",
    "deck"
   ]
  },
  {
   "cell_type": "markdown",
   "metadata": {},
   "source": [
    "When we run the permutation function on the deck object, it will rearrange the the order of the deck randomly as seen below:"
   ]
  },
  {
   "cell_type": "code",
   "execution_count": 10,
   "metadata": {},
   "outputs": [
    {
     "data": {
      "text/plain": [
       "array([41,  9, 43, 14, 28,  6, 27, 24, 49, 33,  1, 21, 32, 16,  2,  4, 11,\n",
       "       34,  3, 40, 38,  5, 42, 31, 13, 51, 30, 18, 12, 48, 22,  7, 52, 15,\n",
       "       45, 17, 26, 47, 10, 37, 50, 39, 19,  8, 25, 20, 35, 46, 29, 36, 44,\n",
       "       23])"
      ]
     },
     "execution_count": 10,
     "metadata": {},
     "output_type": "execute_result"
    }
   ],
   "source": [
    "np.random.permutation(deck)"
   ]
  },
  {
   "cell_type": "markdown",
   "metadata": {},
   "source": [
    "But if we call the original object deck, we see that it remains the same. So the permutation of deck has created a new permuted sequence, but the original object will remain intact."
   ]
  },
  {
   "cell_type": "code",
   "execution_count": 11,
   "metadata": {},
   "outputs": [
    {
     "data": {
      "text/plain": [
       "array([ 1,  2,  3,  4,  5,  6,  7,  8,  9, 10, 11, 12, 13, 14, 15, 16, 17,\n",
       "       18, 19, 20, 21, 22, 23, 24, 25, 26, 27, 28, 29, 30, 31, 32, 33, 34,\n",
       "       35, 36, 37, 38, 39, 40, 41, 42, 43, 44, 45, 46, 47, 48, 49, 50, 51,\n",
       "       52])"
      ]
     },
     "execution_count": 11,
     "metadata": {},
     "output_type": "execute_result"
    }
   ],
   "source": [
    "deck"
   ]
  },
  {
   "cell_type": "markdown",
   "metadata": {},
   "source": [
    "When we run shuffle on deck we see a similar result in that the numbers have been rearranged, however when we call the object we can see the deck object content was permanently shuffled to be in a new random order."
   ]
  },
  {
   "cell_type": "code",
   "execution_count": 12,
   "metadata": {},
   "outputs": [
    {
     "data": {
      "text/plain": [
       "array([ 2,  5, 52, 28, 15, 33, 19, 27, 29, 37, 49, 43, 14, 44, 21, 16, 48,\n",
       "        4, 45, 13, 36,  3, 40,  9, 42, 47, 50,  1, 34, 22, 39, 32, 25, 17,\n",
       "       38, 23, 18, 20, 12,  8, 10, 41,  7, 11, 46, 24, 31, 35, 51, 26, 30,\n",
       "        6])"
      ]
     },
     "execution_count": 12,
     "metadata": {},
     "output_type": "execute_result"
    }
   ],
   "source": [
    "np.random.shuffle(deck)\n",
    "deck"
   ]
  },
  {
   "cell_type": "markdown",
   "metadata": {},
   "source": [
    "## Distributions\n",
    "\n",
    "### Normal Distribution\n",
    "A dataset is considered normally distributed when 50% of the values are above the mean and 50% are below the mean [17]. Mathematiclly this means that the mean = median = mode.\n",
    "\n",
    "The normal distribution (also known as the Gaussian distribution) can be visualised as a what is known as a bell curve. This distribution is considered one of the most common and most important probability distributions in statistics. It is considered to be so important as it fits many natural phenomena [18]. For example, IQ scores, blood pressure and heights all follow a normal distribution.\n",
    "\n",
    "The probablility density of a normal distribution can be mathematically expressed as:"
   ]
  },
  {
   "cell_type": "markdown",
   "metadata": {},
   "source": [
    "$$ p(x) = \\frac{1}{\\sqrt{ 2 \\pi \\sigma^2 }}e^{ - \\frac{ (x - \\mu)^2 } {2 \\sigma^2} }, $$"
   ]
  },
  {
   "cell_type": "markdown",
   "metadata": {},
   "source": [
    "where $\\mu$ is the mean and $\\sigma$ the standard deviation. The square of the standard deviation, $\\sigma^2,$ is called the variance [3].\n",
    "\n",
    "The numpy.random.normal() distribtion function will randomly generate values according to this distribution. The parameters  it accepts the mean, standard deviation and number of integers to be returned in the format numpy.random.normal(mean, standard deviation, number of ints)"
   ]
  },
  {
   "cell_type": "code",
   "execution_count": 13,
   "metadata": {},
   "outputs": [
    {
     "data": {
      "text/plain": [
       "array([-1.87102288,  0.38059786,  0.90188366, -0.83559821, -0.30068113,\n",
       "        0.75655834, -0.25427667,  0.22183027, -0.30301434,  1.92833907,\n",
       "        1.13837157, -0.55888587,  1.51995359, -0.77464108, -0.25310741,\n",
       "       -0.20614384,  1.64475511, -1.06956236, -1.24101184, -1.0344917 ])"
      ]
     },
     "execution_count": 13,
     "metadata": {},
     "output_type": "execute_result"
    }
   ],
   "source": [
    "np.random.normal(0, 1.0, 20)"
   ]
  },
  {
   "cell_type": "markdown",
   "metadata": {},
   "source": [
    "In the above example we are generating 20 random number across a normal distribution. These will be centred around a mean of 0 and have a standard deviation of 1"
   ]
  },
  {
   "cell_type": "code",
   "execution_count": 23,
   "metadata": {},
   "outputs": [
    {
     "data": {
      "text/plain": [
       "<matplotlib.axes._subplots.AxesSubplot at 0x1fb1ce6e1d0>"
      ]
     },
     "execution_count": 23,
     "metadata": {},
     "output_type": "execute_result"
    },
    {
     "data": {
      "image/png": "[encoded data removed]",
      "text/plain": [
       "<Figure size 432x288 with 1 Axes>"
      ]
     },
     "metadata": {
      "needs_background": "light"
     },
     "output_type": "display_data"
    }
   ],
   "source": [
    "plt.title(\"Normal Distribution\")\n",
    "sns.distplot(np.random.normal(20, 10.0, 1000))"
   ]
  },
  {
   "cell_type": "markdown",
   "metadata": {},
   "source": [
    "In the above plot we can see a histogram of 1000 random numbers, with a mean of 20 and a standard deviation of 10. It is very easy to see the bell curve shape of the normal distribution."
   ]
  },
  {
   "cell_type": "markdown",
   "metadata": {},
   "source": [
    "### Binomial Distributions\n",
    "\n",
    "Binomial distributions give the discrete (whole number) probability distribution for obtaining a number of successes out of a series of trials and can be expressed by the equation [3]:"
   ]
  },
  {
   "cell_type": "markdown",
   "metadata": {},
   "source": [
    "$$ P(N) = \\binom{n}{N}p^N(1-p)^{n-N}, $$"
   ]
  },
  {
   "cell_type": "markdown",
   "metadata": {},
   "source": [
    "Where P is the probability, and n is the number of successes out of n binomial trials. A binomial trial (or Bernoulli trial) is a random experiment with exactly two possible outcomes, \"success\" and \"failure\", in which the probability of success is the same every time the experiment is conducted [14]. Looking at the documentation, the random.binomial parameters are: random.binomial(n, p, size=None); where n represents the number of trials, p represents the probability and size represents the size of the set.\n",
    "\n",
    "Coin tosses are often used to illustate binomial experiments as there are two possible outcomes, either heads or tails. If the desired outcome is heads, and the coin is unbiased (or a fair coin), the probability of tossing the coin and successfully obtaining a heads is 50% or 0.5."
   ]
  },
  {
   "cell_type": "code",
   "execution_count": 15,
   "metadata": {},
   "outputs": [
    {
     "data": {
      "text/plain": [
       "array([3, 5, 5, 5, 5, 4, 2, 8, 7, 3, 3, 5, 4, 5, 6])"
      ]
     },
     "execution_count": 15,
     "metadata": {},
     "output_type": "execute_result"
    }
   ],
   "source": [
    "# Toss a coin 10 times, 0.5 means half of the time we expect a head (assuming a fair coin), \n",
    "# and then repeat this test 15 times\n",
    "np.random.binomial(10, 0.5, 15)"
   ]
  },
  {
   "cell_type": "code",
   "execution_count": 27,
   "metadata": {},
   "outputs": [
    {
     "data": {
      "text/plain": [
       "<matplotlib.axes._subplots.AxesSubplot at 0x1fb1d076940>"
      ]
     },
     "execution_count": 27,
     "metadata": {},
     "output_type": "execute_result"
    },
    {
     "data": {
      "image/png": "[encoded data removed]",
      "text/plain": [
       "<Figure size 432x288 with 1 Axes>"
      ]
     },
     "metadata": {
      "needs_background": "light"
     },
     "output_type": "display_data"
    }
   ],
   "source": [
    "# flip a coin 1000 times and repeat this test 1000 times\n",
    "plt.title(\"Binomial Distribution\")\n",
    "plt.xlabel(\"Number of heads\")\n",
    "plt.ylabel(\"Probablity\")\n",
    "sns.distplot(np.random.binomial(1000, 0.5, 1000))"
   ]
  },
  {
   "cell_type": "markdown",
   "metadata": {},
   "source": [
    "Looking at the results of our coin flipping example above, the result of tests is consistent with our probability of 50% success as can be seen in this distribution of the results. Each value can be calculated as \"out of n\"."
   ]
  },
  {
   "cell_type": "markdown",
   "metadata": {},
   "source": [
    "#### Binomial vs Normal Distribution\n",
    "\n",
    "A binomial distribution is very different from a normal distribution, and yet if the sample size is large enough such as our plots above, the shapes will be quite similar. The key difference is that a binomial distribution is discrete, not continuous. In other words, it is NOT possible to find a data value between any two data values.\n",
    "\n",
    "Normal Distribution contains the following characteristics [20]:\n",
    "1. It occurs naturally in numerous situations. \n",
    "2. Data points are similar and occur within a small range. \n",
    "3. Much fewer outliers on the low and high ends of data range.\n",
    "\n",
    "The graph below quite clearly illustrates point 2 and 3. While both distributions are clutsered around the mean, the normal distribution is much more centred meaning a smaller data range and alot less outliers. "
   ]
  },
  {
   "cell_type": "code",
   "execution_count": 38,
   "metadata": {},
   "outputs": [
    {
     "data": {
      "image/png": "[encoded data removed]",
      "text/plain": [
       "<Figure size 432x288 with 1 Axes>"
      ]
     },
     "metadata": {
      "needs_background": "light"
     },
     "output_type": "display_data"
    }
   ],
   "source": [
    "norm = np.random.normal(100, 1, 100)\n",
    "# Shifted to the left of graph for comparsion with .5 sd\n",
    "bi = np.random.binomial(100, .5, 100)\n",
    "concat = pd.Series(np.concatenate([norm, bi]))\n",
    "plt.title(\"Binomial vs Normal Distribution\")\n",
    "plt.show(sns.distplot(concat, bins = 200))"
   ]
  },
  {
   "cell_type": "markdown",
   "metadata": {},
   "source": [
    "### Exponential Distribution\n",
    "\n",
    "The exponential distributuion is often used to describe the time or distance between events (either random or otherwise) [15]. For example, you could describe the time of a meeting at 10am as having an exponential distribution. Some could arrive 10 minutes before the meeting to find their seat and set up. Most should be there by the the start of the meeting at 10am. Then the arrivals should fall - with few arriving after 10am and no one arrving after 10.20am (one would hope!). The probablity density for exponential distribution is expressed as follows [3]:"
   ]
  },
  {
   "cell_type": "markdown",
   "metadata": {},
   "source": [
    "$$f(x; \\frac{1}{\\beta}) = \\frac{1}{\\beta} \\exp(-\\frac{x}{\\beta}),$$"
   ]
  },
  {
   "cell_type": "markdown",
   "metadata": {},
   "source": [
    "The NumPy manual states: for $x > 0$ and $0$ elsewhere. $\\beta$ is the scale parameter, which is the inverse of the rate parameter $\\lambda = 1/\\beta$. The rate parameter is an alternative, widely used parameterization of the exponential distribution [16].\n",
    "\n",
    "The numpy.random.exponential function takes two arguements. Firstly scale parameter ($\\lambda = 1/\\beta$ in our equation). This is the rate at which the events (times as per our example above) will decline [3]. And secondly it will take a size, which is simply the number of events."
   ]
  },
  {
   "cell_type": "code",
   "execution_count": 22,
   "metadata": {},
   "outputs": [
    {
     "data": {
      "text/plain": [
       "array([0.32086271, 0.10806118, 4.05175985, 0.0626228 , 1.4165287 ,\n",
       "       3.54245121, 5.15833561, 1.88249964, 6.20999981, 0.02366069,\n",
       "       0.26124623, 2.5820362 , 1.42656698, 1.19345431, 0.22113955,\n",
       "       1.66630568, 1.78077407, 0.51820331, 0.9991805 , 0.24688117])"
      ]
     },
     "execution_count": 22,
     "metadata": {},
     "output_type": "execute_result"
    }
   ],
   "source": [
    "np.random.exponential(2, 20)"
   ]
  },
  {
   "cell_type": "markdown",
   "metadata": {},
   "source": [
    "This example will generate 20 events which will decline at a rate of 2"
   ]
  },
  {
   "cell_type": "code",
   "execution_count": 39,
   "metadata": {},
   "outputs": [
    {
     "data": {
      "text/plain": [
       "<matplotlib.axes._subplots.AxesSubplot at 0x1fb1e9099b0>"
      ]
     },
     "execution_count": 39,
     "metadata": {},
     "output_type": "execute_result"
    },
    {
     "data": {
      "image/png": "[encoded data removed]",
      "text/plain": [
       "<Figure size 432x288 with 1 Axes>"
      ]
     },
     "metadata": {
      "needs_background": "light"
     },
     "output_type": "display_data"
    }
   ],
   "source": [
    "plt.title(\"Exponential Distribution\")\n",
    "sns.distplot(np.random.exponential(1, 100000))"
   ]
  },
  {
   "cell_type": "markdown",
   "metadata": {},
   "source": [
    "When we graph the distribution and use a larger sample size, the trialing off characteristic of an exponential distribution can be seen very clearly. This graph shows 100000 events when decline at a rate of 1."
   ]
  },
  {
   "cell_type": "markdown",
   "metadata": {},
   "source": [
    "## Chi-square distribution\n",
    "The chi-square distribution is a special case of the gamma distribution; A chi square distribution with $ k $ degrees of freedom is equal to a gamma distribution with a = $k$ / 2 and b = 0.5 (or β = 2).[21] \n",
    "\n",
    "The chi-square test is commonly used to test relationships between categorical variables. The null hypothesis of the Chi-Square test is that there is no relationship between the categorical variables in the population -  they are independent [22]. It essentially measures how well the distribution of data fits with the distribution that would be expected if the variables were independant rather than dependant. \n",
    "\n",
    "This test only works for categorical data, such as Gender (men and women) or colour (yellow, orange, red) etc, but not numerical data such as height or weight[23]. An example research question that could be answered using a Chi-Square analysis would be: Is there a significant relationship between gender and choice of pet(ie cat or dog)?\n",
    "\n",
    "The probability density function of the chi-squared distribution is represented as [3]:"
   ]
  },
  {
   "cell_type": "markdown",
   "metadata": {},
   "source": [
    "$$ p(x) = \\frac{(1/2)^{k/2}}{\\Gamma(k/2)}x^{k/2 - 1} e^{-x/2}, $$"
   ]
  },
  {
   "cell_type": "markdown",
   "metadata": {},
   "source": [
    "Lets look at an example of this. If you were to generate a random sample taken from a normal distribution, then the chi square distribution is the distribution of the sum of these random samples squared. The degrees of freedom $ k $ are equal to the number of samples being summed. \n",
    "\n",
    "What this means is that if you have taken 10 samples from the normal distribution, then the degress of freedom would be 10. The degrees of freedom in a chi square distribution is also its mean. \n",
    "\n",
    "So, the mean of this particular distribution will be 10. Chi square distributions are always right skewed. However, the greater the degrees of freedom ($ k $), the more the chi square distribution looks like a normal distribution [21]."
   ]
  },
  {
   "cell_type": "markdown",
   "metadata": {},
   "source": [
    "The numpy.random.chisquare function takes two arguements. Firstly it takes df of degrees of freedom (or $ k $ as our above equation) which must be greater than 0. Secondly it takes a size parameter. Size is simply the number of samples drawn [3]."
   ]
  },
  {
   "cell_type": "code",
   "execution_count": 28,
   "metadata": {},
   "outputs": [
    {
     "data": {
      "text/plain": [
       "array([ 3.65932141,  4.18716083,  2.56660887,  0.76740572, 10.2840426 ,\n",
       "        1.92943202, 21.3996577 , 10.61140076,  6.44302096, 10.99398745])"
      ]
     },
     "execution_count": 28,
     "metadata": {},
     "output_type": "execute_result"
    }
   ],
   "source": [
    "np.random.chisquare(4, size=10)"
   ]
  },
  {
   "cell_type": "markdown",
   "metadata": {},
   "source": [
    "The above exmaple shows the use of chisqaured to generate 10 samples with 4 degrees of freedom. Now lets plot a chisquared distribution."
   ]
  },
  {
   "cell_type": "code",
   "execution_count": 41,
   "metadata": {},
   "outputs": [
    {
     "data": {
      "text/plain": [
       "<matplotlib.axes._subplots.AxesSubplot at 0x1fb1e6aa7f0>"
      ]
     },
     "execution_count": 41,
     "metadata": {},
     "output_type": "execute_result"
    },
    {
     "data": {
      "image/png": "[encoded data removed]",
      "text/plain": [
       "<Figure size 432x288 with 1 Axes>"
      ]
     },
     "metadata": {
      "needs_background": "light"
     },
     "output_type": "display_data"
    }
   ],
   "source": [
    "plt.title(\"Chi-Squared Distribution with Smaller Degree of Freedom\")\n",
    "sns.distplot(np.random.chisquare(2, size=200), bins=20)"
   ]
  },
  {
   "cell_type": "markdown",
   "metadata": {},
   "source": [
    "As stated above, the lower the df is the more skewed the distributon will look. If we increase the df, the distribution should look more normal"
   ]
  },
  {
   "cell_type": "code",
   "execution_count": 42,
   "metadata": {},
   "outputs": [
    {
     "data": {
      "text/plain": [
       "<matplotlib.axes._subplots.AxesSubplot at 0x1fb1e738518>"
      ]
     },
     "execution_count": 42,
     "metadata": {},
     "output_type": "execute_result"
    },
    {
     "data": {
      "image/png": "[encoded data removed]",
      "text/plain": [
       "<Figure size 432x288 with 1 Axes>"
      ]
     },
     "metadata": {
      "needs_background": "light"
     },
     "output_type": "display_data"
    }
   ],
   "source": [
    "plt.title(\"Chi-Squared Distribution with Larger Degree of Freedom\")\n",
    "sns.distplot(np.random.chisquare(200, size=200), bins=20)"
   ]
  },
  {
   "cell_type": "markdown",
   "metadata": {},
   "source": [
    "So increasing the df from 2 to 200 has made the data much more normally distributed. "
   ]
  },
  {
   "cell_type": "markdown",
   "metadata": {},
   "source": [
    "## Pareto distribution\n",
    "\n",
    "The Pareto distribution is named after Italian economist and sociologist Vilfredo Pareto. It is sometimes referred to as the Pareto Principle or the 80-20 Rule. Pareto created a mathematical formula in the 20th century which described the inequalities that existed in Italy - 80% of the country’s wealth was in the hands of only 20% of the population [24]. \n",
    "\n",
    "The Pareto distribution is a skewed distribution with heavy, or “slowly decaying” tails (ie alot of the data is in the tails) [25]. It is one of the so-called “fat-tailed” distributions.\n",
    "\n",
    "This distribution is often used to describe social, scientific and geophysical phenomena in society (such as income or population). It can also be used in various other situations for example, it could be used to model the lifetime of a manufactured item with a certain warranty period.\n",
    "\n",
    "So now that we know what the pareto distribution is, the documentation tells us that np.random.pareto() actually draws samples from a Pareto II or Lomax distribution with specified shape.\n",
    "\n",
    "The Lomax distribution is a heavy tailed distribution originally proposed by Lomax (1987), who used it in his analysis of business failure lifetime data [26]. This distribution is basically a shifted Pareto distribution - altered so that its support begins at zero.\n",
    "\n",
    "The probability density for the Pareto distribution is represented as [3]:"
   ]
  },
  {
   "cell_type": "markdown",
   "metadata": {},
   "source": [
    "$$ p(x) = \\frac{am^a}{x^{a+1}} $$"
   ]
  },
  {
   "cell_type": "markdown",
   "metadata": {},
   "source": [
    "where $a$ is the shape and $m$ the scale."
   ]
  },
  {
   "cell_type": "markdown",
   "metadata": {},
   "source": [
    "The numpy.random.pareto function takes two arguements in the format numpy.random.pareto(a, size=None). Firstly it takes $a$ which is the shape (or the slope also known as the Pareto Index)  which must be greater than 0. Secondly it takes a size parameter. Size is simply the number of samples drawn [3]. You can also specify the shape of the data using the size variable. If multiple values are given in the size variable eg (a, b, c) then a * b * c samples will be drawn.\n",
    "\n",
    "The classical Pareto distribution can be obtained from the Lomax distribution by adding 1 and multiplying by the scale parameter $m$. "
   ]
  },
  {
   "cell_type": "code",
   "execution_count": 21,
   "metadata": {},
   "outputs": [
    {
     "data": {
      "text/plain": [
       "<matplotlib.axes._subplots.AxesSubplot at 0x1fb1ccb6710>"
      ]
     },
     "execution_count": 21,
     "metadata": {},
     "output_type": "execute_result"
    },
    {
     "data": {
      "image/png": "[encoded data removed]",
      "text/plain": [
       "<Figure size 432x288 with 1 Axes>"
      ]
     },
     "metadata": {
      "needs_background": "light"
     },
     "output_type": "display_data"
    }
   ],
   "source": [
    "a = 3 # a is the shape of the data\n",
    "m = 2  # m is the mode\n",
    "# generates 1000 smaples\n",
    "classic = (np.random.pareto(a, 1000) + 1) * m\n",
    "plt.title(\"Classic Pareto Distribution\")\n",
    "sns.distplot(classic)"
   ]
  },
  {
   "cell_type": "code",
   "execution_count": 22,
   "metadata": {},
   "outputs": [
    {
     "data": {
      "text/plain": [
       "<matplotlib.axes._subplots.AxesSubplot at 0x1fb1cd7b828>"
      ]
     },
     "execution_count": 22,
     "metadata": {},
     "output_type": "execute_result"
    },
    {
     "data": {
      "image/png": "[encoded data removed]",
      "text/plain": [
       "<Figure size 432x288 with 1 Axes>"
      ]
     },
     "metadata": {
      "needs_background": "light"
     },
     "output_type": "display_data"
    }
   ],
   "source": [
    "a = 3 # a is the shape of the data\n",
    "lomax = (np.random.pareto(a, 1000))\n",
    "plt.title(\"Pareto II or Lomax Distribution\")\n",
    "sns.distplot(lomax)"
   ]
  },
  {
   "cell_type": "markdown",
   "metadata": {},
   "source": [
    "The graph clearly shows the key difference in the Lomax graph is that the data starts at 0 whereas the classic begins at about 2.5. Otherwise the 2 distributions look very similar. \n",
    "\n",
    "A Pareto distribution does not show central tendancy, rather the majority of values fall into 20% of the categories and the other values fall into the remaining categories. Random values in a Pareto distribution would be used when you wanted a majority of your values to be a certain value and to trial off at a specified rate."
   ]
  },
  {
   "cell_type": "markdown",
   "metadata": {},
   "source": [
    "## The use of seeds in generating pseudorandom numbers\n",
    "\n",
    "It is quite a well known problem in computer science - computers cannot generate truly random numbers. They will always be generated according to some sort of pattern or predefined sequence. When discussing single numbers, a random number is one that is drawn from a set of possible values, each of which is equally probable (or from a uniform distribution which we examined earlier). Each of the numbers drawn must be statistically independent of the others [27].\n",
    "\n",
    "Computer use algorithims to generate pseudorandom numbers (or PRNGs) that will *appear* to be random numbers. These algorithims need a starting point or a \"Seed\". So if two seperate programs ran the same number generator using the same seed, then they would both generate the same \"random\" numbers.\n",
    "\n",
    "The numpy.random.seed() function allows us to set that seed value. "
   ]
  },
  {
   "cell_type": "code",
   "execution_count": 58,
   "metadata": {},
   "outputs": [
    {
     "data": {
      "text/plain": [
       "array([83, 40, 73, 54, 31, 76, 91, 39, 90, 25])"
      ]
     },
     "execution_count": 58,
     "metadata": {},
     "output_type": "execute_result"
    }
   ],
   "source": [
    "# we are setting our seed here to 23 which will be the start point for the randint function\n",
    "np.random.seed(23)\n",
    "# generate 10 random ints between 1 and 100\n",
    "np.random.randint(0, 101, size=10)"
   ]
  },
  {
   "cell_type": "markdown",
   "metadata": {},
   "source": [
    "Here we will call the randint function with the same parameters and not set a seed, just for demonstration."
   ]
  },
  {
   "cell_type": "code",
   "execution_count": 55,
   "metadata": {},
   "outputs": [
    {
     "data": {
      "text/plain": [
       "array([21, 38, 96, 20, 44, 93, 39, 14, 26, 81])"
      ]
     },
     "execution_count": 55,
     "metadata": {},
     "output_type": "execute_result"
    }
   ],
   "source": [
    "# generates different numbers using same randint parameters\n",
    "np.random.randint(0, 101, size=10)"
   ]
  },
  {
   "cell_type": "markdown",
   "metadata": {},
   "source": [
    "And again we will set our seed back to 23 and we see the same \"random\" numbers generated as above!"
   ]
  },
  {
   "cell_type": "code",
   "execution_count": 57,
   "metadata": {},
   "outputs": [
    {
     "data": {
      "text/plain": [
       "array([83, 40, 73, 54, 31, 76, 91, 39, 90, 25])"
      ]
     },
     "execution_count": 57,
     "metadata": {},
     "output_type": "execute_result"
    }
   ],
   "source": [
    "np.random.seed(23)\n",
    "np.random.randint(0, 101, size=10)"
   ]
  },
  {
   "cell_type": "markdown",
   "metadata": {},
   "source": [
    "So if we know the seed, we can easily predict the numbers that will be produced. If you do not explicitly seed the pseudorandom number generator, then it may use the current system time in seconds or milliseconds as the seed as alot of generators do this as default [28]. These pseudorandom numbers will also repeat their sequences over intervals. The repeating will be based on the length of the initial seed. This can be a big concern when using pseudorandom numbers in security (for example in banking or encryption). \n",
    "\n",
    "The long the initial seed is, the larger the population will be where the number will be generated, and in turn the longer the intervals will be before a sequence is repeated. In many security applications, the idea is that the longer the seed, the longer it would take someone trying to calculate all the possible seeds for a generator, the more impractial it would be to attempt to calculate this [29]. This is becoming more and more difficult as computers are getting better at calculating this everyday!"
   ]
  },
  {
   "cell_type": "markdown",
   "metadata": {},
   "source": [
    "The generation of pseudorandom numbers in NumPy is based on the Mersenne Twister [29]. It was first created by Makoto Matsumoto and Takuji Nishimur in 1997, and is used by the NumPy package in generating its pseudorandom numbers [30]. It gets its name from its period length (ie which the number of values before the sequence repeats) which is a Mersenne prime. A Mersenne prime (named for Marin Mersenne a 17th Century French Minim friar) is defined as a prime number that is one less than a power of two. The general form is $ Mn=2n−1 $ where n is an integer. \n",
    "\n",
    "The largest prime that has been found to date is $ 2^{82589933}−1 $ which was discovered in 2018. Since 1997, the Great Internet Mersenne Prime Search (GIMPS) distributed system has been used to find new Mersenne primes [31].\n",
    "\n",
    "We can try prime numbers (2,3,5,7,11...) to see if $2^{p−1}−1$ is also prime:\n",
    "\n",
    "$ p=2\\quad(2^2−1 = 3) $ This **is** prime\n",
    "\n",
    "$ p=3\\quad(2^3−1 = 7) $ This **is** prime\n",
    "\n",
    "$ p=5\\quad(2^5−1 = 31) $ This **is** prime\n",
    "\n",
    "$ p=7\\quad(2^7−1 = 127) $ This **is** prime\n",
    "\n",
    "$ p=11\\quad(2^11−1 = 2047) $ This is **not** prime, so we ignore p=11\n",
    "\n",
    "So our sequence then becomes: [2, 3, 5, 7, 13, 17, 19, 31....]"
   ]
  },
  {
   "cell_type": "markdown",
   "metadata": {},
   "source": [
    "Now that we know a little bit more about how NumPy actually generates these numbers, we can look at the next function in numpy to do with seeds. The numpy.random.RandomState() function is the container for the random Mersenne Twister pseudo-random number generator. RandomState exposes a number of methods for generating random numbers drawn from a variety of probability distributions. It also lets us set the seed of the generator as we saw earlier, however it sets the state of the seed for an instance of the generator calling to numpy. In order words it does not effect the global state of calls to numpy like numpy.random.seed() does. Lets see this in practice [32].\n",
    "\n",
    "As we saw above, if we want to set the seed that calls to np.random we use np.random.seed()"
   ]
  },
  {
   "cell_type": "code",
   "execution_count": 16,
   "metadata": {},
   "outputs": [
    {
     "data": {
      "text/plain": [
       "array([[0.91874701, 0.90071485],\n",
       "       [0.03342143, 0.95694934],\n",
       "       [0.13720932, 0.28382835],\n",
       "       [0.60608318, 0.94422514]])"
      ]
     },
     "execution_count": 16,
     "metadata": {},
     "output_type": "execute_result"
    }
   ],
   "source": [
    "np.random.seed(12)\n",
    "np.random.uniform(0, 5, 5)\n",
    "#array([0.77081421, 3.70024848, 1.31657508, 2.66869697, 0.07287481])\n",
    "np.random.rand(4,2)"
   ]
  },
  {
   "cell_type": "markdown",
   "metadata": {},
   "source": [
    "Also just to remind ourselves that when we make another call to the same functions, it does not maintain the same seed we specified above"
   ]
  },
  {
   "cell_type": "code",
   "execution_count": 19,
   "metadata": {},
   "outputs": [
    {
     "data": {
      "text/plain": [
       "array([4.26367771, 0.01129617, 2.60613014, 2.76018817, 2.42688707])"
      ]
     },
     "execution_count": 19,
     "metadata": {},
     "output_type": "execute_result"
    }
   ],
   "source": [
    "np.random.uniform(0, 5, 5)"
   ]
  },
  {
   "cell_type": "code",
   "execution_count": 20,
   "metadata": {},
   "outputs": [
    {
     "data": {
      "text/plain": [
       "array([[0.76813415, 0.16071675],\n",
       "       [0.76456045, 0.0208098 ],\n",
       "       [0.13521018, 0.11627302],\n",
       "       [0.30989758, 0.67145265]])"
      ]
     },
     "execution_count": 20,
     "metadata": {},
     "output_type": "execute_result"
    }
   ],
   "source": [
    "np.random.rand(4,2)"
   ]
  },
  {
   "cell_type": "markdown",
   "metadata": {},
   "source": [
    "So numpy.random.RandomState allows us to set the state of the of the generator for all calls to numpy.random. We will use an instance of the class to avoid affecting the global numpy state."
   ]
  },
  {
   "cell_type": "code",
   "execution_count": 18,
   "metadata": {},
   "outputs": [
    {
     "data": {
      "text/plain": [
       "array([0.77081421, 3.70024848, 1.31657508, 2.66869697, 0.07287481])"
      ]
     },
     "execution_count": 18,
     "metadata": {},
     "output_type": "execute_result"
    }
   ],
   "source": [
    "x = np.random.RandomState(12)\n",
    "x.uniform(0, 5, 5)"
   ]
  },
  {
   "cell_type": "markdown",
   "metadata": {},
   "source": [
    "And we can see here that a new call will maintain its state."
   ]
  },
  {
   "cell_type": "code",
   "execution_count": 21,
   "metadata": {},
   "outputs": [
    {
     "data": {
      "text/plain": [
       "array([[0.91874701, 0.90071485],\n",
       "       [0.03342143, 0.95694934],\n",
       "       [0.13720932, 0.28382835],\n",
       "       [0.60608318, 0.94422514]])"
      ]
     },
     "execution_count": 21,
     "metadata": {},
     "output_type": "execute_result"
    }
   ],
   "source": [
    "x.rand(4, 2)"
   ]
  },
  {
   "cell_type": "markdown",
   "metadata": {},
   "source": [
    "We can use the numpy.random.get_state() function to check the global numpy variable"
   ]
  },
  {
   "cell_type": "code",
   "execution_count": 22,
   "metadata": {},
   "outputs": [
    {
     "data": {
      "text/plain": [
       "('MT19937', array([2752380201,  991603648, 3240864687, 1865652587, 2236641957,\n",
       "        3283679253,  235836025, 1291714636,  223794552, 2808761495,\n",
       "        3955623706, 4037652907, 4255839183, 2283468978,  784450198,\n",
       "        3143581686, 2995161677,  924122018, 2707313524, 1452970692,\n",
       "        3178697032, 2920404492, 2859826189, 3404544927,  957870877,\n",
       "        3155561666,  822522396, 1864367803, 2403722151, 1906148338,\n",
       "         134899124, 2074272773, 2861260966,  862365746, 3189537696,\n",
       "        3445258596, 3763625904,  610993021, 4059994792, 2521760415,\n",
       "        1597634565, 2489249105, 3972269359,    9932763, 3202392314,\n",
       "        4161239583, 2542858865,  577389939, 3804457880, 1186162430,\n",
       "         396549305, 1515794530, 2809291581, 4174562459, 3761112100,\n",
       "        2895099134, 1816905577, 3643517631,  732658533,  279210070,\n",
       "        3137360761,  817646188,  458291501, 3313094280, 4040522414,\n",
       "        1712875716, 4108251235,  387424722, 1197887942, 1084976957,\n",
       "         847499631,  301269786, 3784002108, 1061983727,  911417923,\n",
       "        1250472401,  655718549, 1783707579,   11075415, 1672661234,\n",
       "         468630962, 2739656082, 1522690238,  198550009, 1217774073,\n",
       "        3969431532, 2627436110, 1986056665,   18056432, 3737470079,\n",
       "        2912624441, 3644090313,  303755981, 2375780980, 2021873258,\n",
       "         875501799, 3088630707, 1431975253, 4261245683, 1779532262,\n",
       "        1752694750, 3399377820, 2218578574, 1626172117, 3136239473,\n",
       "         561007062, 1749416676,  215086762, 2760324670, 2753628682,\n",
       "        1336029712,  526110312, 4075787441, 3307044182, 3077040986,\n",
       "          16952359, 4130319986, 3589862969, 2311666261,  880710523,\n",
       "        2381366400,  965282993, 1779446554, 1571868889, 2529681322,\n",
       "         844062961, 3297767698, 4147242821,  875166147, 4091406680,\n",
       "        4124769519, 2122072194, 3522410021,  503353823,   78522402,\n",
       "         962237351,  408999453,  422779733,  534247319, 2736350569,\n",
       "        1352397478,  974993440, 2962999704, 3678006383, 3721915615,\n",
       "         107589834, 1412805736,  235465994, 2201778022,  475408121,\n",
       "        4233078444, 1970707802, 4158538559, 1024742342, 1926354411,\n",
       "        1400026336, 1226105684, 2703612467,  434456971,  784831262,\n",
       "        1782612212, 2439932001,  290360495, 1113825956, 3955106895,\n",
       "         838898771, 3150315506,  434442765, 2149202638, 1370035218,\n",
       "         400587497,  630267991, 1439826493, 2887545609, 3113193296,\n",
       "        3559343310, 1397577925, 1082101241, 3173597790, 4153414403,\n",
       "        3253164486, 4271286521,  239673860, 1210266348, 1552975862,\n",
       "          10068649, 3062637299, 1313974247, 1985704740, 2613795453,\n",
       "         563940213, 4123603037, 1825490950, 1511711638, 1542935315,\n",
       "        4076207889, 2799554381,   15916285, 1534304012,  584431985,\n",
       "         702461329, 4062583832, 1336875314,  388533392, 4278603307,\n",
       "        1764922373, 3371818473, 3365573618,  656359050,  198147832,\n",
       "        2552003165,   82119852, 2831270944, 2653812829,  647578117,\n",
       "        1208561061, 2816905825,  455250737,  310388796,  375469819,\n",
       "        2657235809, 3456168043, 2174404156,  588113506, 1988079656,\n",
       "        3119714447,  269105837, 3893620959, 2770088863, 1977951445,\n",
       "        4143071288,  496146200, 2407958563,  371702202, 3540529143,\n",
       "        2480885307, 3740382093,  991914517, 3332188561, 2071108892,\n",
       "        3498159614, 1237851724, 3913885029, 2255531316,   25486152,\n",
       "        1425456975, 2628522447, 2053215392, 2231100654, 1386717036,\n",
       "          63490712, 3373638415, 1547002087, 1198207130, 1285817515,\n",
       "        2084230559, 4097829774, 3871685238, 3090220631,  567286700,\n",
       "          77432076,  990906324, 3746004681, 3223241589, 2128577014,\n",
       "        3911089908, 1782410358,  249553724,  868180621, 2567957374,\n",
       "        1453724945, 3188624576,  206556175, 3053487429,  341042611,\n",
       "         952475942, 1752010876, 3386264970,  466013405, 4108322495,\n",
       "        1316547218, 3526178015, 3655226652, 3810697948, 3935508652,\n",
       "        3641205729, 2682505215,  490977142, 4016548534, 2332052942,\n",
       "        2631194845, 3393533877, 1877658408, 3845720268, 3879938612,\n",
       "        1355124439, 2262126086, 2861644171, 1908448560,  729732572,\n",
       "        1991050064, 1351419342, 1965450554, 3460904918, 3905868352,\n",
       "        3706480236,  856428887,  380016129, 1559894681, 1034486810,\n",
       "         584108027, 2269965915, 3521388876, 1790809413, 2754238880,\n",
       "        3018178785, 1643587396, 3661969857, 3447700195, 1500362586,\n",
       "         570326680,  981204017, 4070361115,  122166607, 2190680966,\n",
       "        1617917501,  399040064, 3892254933, 3605838951, 3006292770,\n",
       "        1143177441,  763394162, 1769190748, 1127974909, 1465188728,\n",
       "        3931998169,  199521566, 1515302096, 2785090782, 2599284483,\n",
       "        3356731841, 3655323267, 1490151345, 3938825896, 1500397128,\n",
       "        2083095520, 3891583296,  348696843,   28221236, 3274614303,\n",
       "        3291281847,  427052610, 1901634880, 2624839219,  883945419,\n",
       "        3412854248,  464790492, 3619030389,  766472719, 3888697712,\n",
       "         185833263,  728106311, 1734255227, 1996564474, 1851084914,\n",
       "        2541161860, 3859978274, 1775165673, 2040300561, 2443686038,\n",
       "        4231260573,  588477771, 3519800569, 3411764798, 1456701468,\n",
       "        3903336105,  135650787, 3383188819, 1421161809, 1471743783,\n",
       "        3901713349, 3315852553, 3906615791, 1407733892, 1082761689,\n",
       "         768852001, 1210452981, 3910135040, 2827575821, 2213843553,\n",
       "        1665345935,  181187480, 4015791325, 1700626986,  652966454,\n",
       "         319159726, 1262300870,  203608194, 4252788241, 2819085712,\n",
       "         113709332, 3963489768, 1277886320, 2515683910,  731518167,\n",
       "        1325248137, 1425028143, 4057900909, 3729615119, 3724863529,\n",
       "        1240857110, 2125566598,  922978328,  302171258, 2915874586,\n",
       "         586455739,  101034281, 4222811999, 3268749168, 4017915804,\n",
       "        1901300520, 2260642860, 2153467226,  162676623, 2905390439,\n",
       "        2027086082,  692340351,  983870157, 1582575845, 1551160691,\n",
       "        3320179288,  993262796, 2113866150, 3641290945,  402071595,\n",
       "        3988404250,  193627968, 4132633989,  477952362, 3984044927,\n",
       "         961722581, 1036525621, 3539398839, 2115396018,   34158204,\n",
       "        1279380455, 2332401506,    7387022, 4170775784,  584427169,\n",
       "        2358454870,   48313116, 3334797041, 4226164418, 1550389843,\n",
       "        3514461857, 1796970968, 3220325017, 2286556333,  421523606,\n",
       "        1804706666, 1961178753, 1898522315, 2156681859, 2463148964,\n",
       "        4210603742,  336380030,  755271050, 3556577778, 1077131864,\n",
       "          10668798, 4002154261, 2198764555, 1817209457, 3917153101,\n",
       "         225946219, 1102566991, 1471596481,  408571767, 3195533592,\n",
       "        3192415152,  358514846, 4013679514,  903444058, 3349567370,\n",
       "        2000435710,  904240792,  894429044, 1055838507, 2563620834,\n",
       "        2120043078, 1459529444, 3080201692, 1709126601, 4167640846,\n",
       "        1989479577, 1564407776, 2669436709, 2874870691,  732473862,\n",
       "        2519227775, 3257856664, 1119979377, 2548157247,  286001080,\n",
       "        3224595657, 3750039160, 3163319171,  183888553,  534360122,\n",
       "        4072887091, 3233104871, 2349727748, 4258638346, 1430457742,\n",
       "        3863467628, 1486326648,   66504224, 2303001392,   86087216,\n",
       "        4253044963, 3386562724, 1304036959, 3992223253, 3150696883,\n",
       "         359906740,  197978130, 4155430287, 1184106101, 1843194346,\n",
       "        1587894288, 1336232198, 1765852116, 2062948638, 3617975213,\n",
       "        3761370459, 2909255864, 3470883215, 2034604699, 2342277032,\n",
       "        4003651736,  516061428,  514113496,  625312119, 1201428273,\n",
       "        1081581426,  170083253,   71169221, 1673749536, 4046508243,\n",
       "        3689477360, 2104582482, 3789661321, 4166597894, 1066793991,\n",
       "         855201340, 1301297010, 1610101859, 2891776716, 2217932841,\n",
       "        4221843464,  850461032, 3005899352,  591585505, 1034046931,\n",
       "        1153053078,  867607410, 3691931139,  378546775, 3719792200,\n",
       "        3514181990, 2541098988,  539041555, 3724291774, 1358341478,\n",
       "         835320341, 2766302572, 1274141786,  671689420, 3615390277,\n",
       "        2135964517, 1849255936, 1962443277, 1618574775, 2512435932,\n",
       "        1320023138, 3140373252, 1875188064,  597505859,  341624923,\n",
       "        1889788800, 1541906232, 4076649718, 1160700200, 3882864388,\n",
       "        3840631384, 3793686246,  970143792,  417680531, 1355179056,\n",
       "        2956356556, 4056283290,  610581907, 4291534824, 1176678238,\n",
       "        3984720181, 4068853262, 3756586747, 4229896272,  526211243,\n",
       "        2214591656, 2179244632, 1063327706, 1037830944, 3303341039,\n",
       "         638807011, 2276302173,  632717513, 3635923583, 1740475650,\n",
       "         972281444,  887913419, 4038781138, 2150850701], dtype=uint32), 52, 0, 0.0)"
      ]
     },
     "execution_count": 22,
     "metadata": {},
     "output_type": "execute_result"
    }
   ],
   "source": [
    "np.random.get_state()"
   ]
  },
  {
   "cell_type": "markdown",
   "metadata": {},
   "source": [
    "And also to check the state the instance we created"
   ]
  },
  {
   "cell_type": "code",
   "execution_count": 23,
   "metadata": {},
   "outputs": [
    {
     "data": {
      "text/plain": [
       "('MT19937', array([2752380201,  991603648, 3240864687, 1865652587, 2236641957,\n",
       "        3283679253,  235836025, 1291714636,  223794552, 2808761495,\n",
       "        3955623706, 4037652907, 4255839183, 2283468978,  784450198,\n",
       "        3143581686, 2995161677,  924122018, 2707313524, 1452970692,\n",
       "        3178697032, 2920404492, 2859826189, 3404544927,  957870877,\n",
       "        3155561666,  822522396, 1864367803, 2403722151, 1906148338,\n",
       "         134899124, 2074272773, 2861260966,  862365746, 3189537696,\n",
       "        3445258596, 3763625904,  610993021, 4059994792, 2521760415,\n",
       "        1597634565, 2489249105, 3972269359,    9932763, 3202392314,\n",
       "        4161239583, 2542858865,  577389939, 3804457880, 1186162430,\n",
       "         396549305, 1515794530, 2809291581, 4174562459, 3761112100,\n",
       "        2895099134, 1816905577, 3643517631,  732658533,  279210070,\n",
       "        3137360761,  817646188,  458291501, 3313094280, 4040522414,\n",
       "        1712875716, 4108251235,  387424722, 1197887942, 1084976957,\n",
       "         847499631,  301269786, 3784002108, 1061983727,  911417923,\n",
       "        1250472401,  655718549, 1783707579,   11075415, 1672661234,\n",
       "         468630962, 2739656082, 1522690238,  198550009, 1217774073,\n",
       "        3969431532, 2627436110, 1986056665,   18056432, 3737470079,\n",
       "        2912624441, 3644090313,  303755981, 2375780980, 2021873258,\n",
       "         875501799, 3088630707, 1431975253, 4261245683, 1779532262,\n",
       "        1752694750, 3399377820, 2218578574, 1626172117, 3136239473,\n",
       "         561007062, 1749416676,  215086762, 2760324670, 2753628682,\n",
       "        1336029712,  526110312, 4075787441, 3307044182, 3077040986,\n",
       "          16952359, 4130319986, 3589862969, 2311666261,  880710523,\n",
       "        2381366400,  965282993, 1779446554, 1571868889, 2529681322,\n",
       "         844062961, 3297767698, 4147242821,  875166147, 4091406680,\n",
       "        4124769519, 2122072194, 3522410021,  503353823,   78522402,\n",
       "         962237351,  408999453,  422779733,  534247319, 2736350569,\n",
       "        1352397478,  974993440, 2962999704, 3678006383, 3721915615,\n",
       "         107589834, 1412805736,  235465994, 2201778022,  475408121,\n",
       "        4233078444, 1970707802, 4158538559, 1024742342, 1926354411,\n",
       "        1400026336, 1226105684, 2703612467,  434456971,  784831262,\n",
       "        1782612212, 2439932001,  290360495, 1113825956, 3955106895,\n",
       "         838898771, 3150315506,  434442765, 2149202638, 1370035218,\n",
       "         400587497,  630267991, 1439826493, 2887545609, 3113193296,\n",
       "        3559343310, 1397577925, 1082101241, 3173597790, 4153414403,\n",
       "        3253164486, 4271286521,  239673860, 1210266348, 1552975862,\n",
       "          10068649, 3062637299, 1313974247, 1985704740, 2613795453,\n",
       "         563940213, 4123603037, 1825490950, 1511711638, 1542935315,\n",
       "        4076207889, 2799554381,   15916285, 1534304012,  584431985,\n",
       "         702461329, 4062583832, 1336875314,  388533392, 4278603307,\n",
       "        1764922373, 3371818473, 3365573618,  656359050,  198147832,\n",
       "        2552003165,   82119852, 2831270944, 2653812829,  647578117,\n",
       "        1208561061, 2816905825,  455250737,  310388796,  375469819,\n",
       "        2657235809, 3456168043, 2174404156,  588113506, 1988079656,\n",
       "        3119714447,  269105837, 3893620959, 2770088863, 1977951445,\n",
       "        4143071288,  496146200, 2407958563,  371702202, 3540529143,\n",
       "        2480885307, 3740382093,  991914517, 3332188561, 2071108892,\n",
       "        3498159614, 1237851724, 3913885029, 2255531316,   25486152,\n",
       "        1425456975, 2628522447, 2053215392, 2231100654, 1386717036,\n",
       "          63490712, 3373638415, 1547002087, 1198207130, 1285817515,\n",
       "        2084230559, 4097829774, 3871685238, 3090220631,  567286700,\n",
       "          77432076,  990906324, 3746004681, 3223241589, 2128577014,\n",
       "        3911089908, 1782410358,  249553724,  868180621, 2567957374,\n",
       "        1453724945, 3188624576,  206556175, 3053487429,  341042611,\n",
       "         952475942, 1752010876, 3386264970,  466013405, 4108322495,\n",
       "        1316547218, 3526178015, 3655226652, 3810697948, 3935508652,\n",
       "        3641205729, 2682505215,  490977142, 4016548534, 2332052942,\n",
       "        2631194845, 3393533877, 1877658408, 3845720268, 3879938612,\n",
       "        1355124439, 2262126086, 2861644171, 1908448560,  729732572,\n",
       "        1991050064, 1351419342, 1965450554, 3460904918, 3905868352,\n",
       "        3706480236,  856428887,  380016129, 1559894681, 1034486810,\n",
       "         584108027, 2269965915, 3521388876, 1790809413, 2754238880,\n",
       "        3018178785, 1643587396, 3661969857, 3447700195, 1500362586,\n",
       "         570326680,  981204017, 4070361115,  122166607, 2190680966,\n",
       "        1617917501,  399040064, 3892254933, 3605838951, 3006292770,\n",
       "        1143177441,  763394162, 1769190748, 1127974909, 1465188728,\n",
       "        3931998169,  199521566, 1515302096, 2785090782, 2599284483,\n",
       "        3356731841, 3655323267, 1490151345, 3938825896, 1500397128,\n",
       "        2083095520, 3891583296,  348696843,   28221236, 3274614303,\n",
       "        3291281847,  427052610, 1901634880, 2624839219,  883945419,\n",
       "        3412854248,  464790492, 3619030389,  766472719, 3888697712,\n",
       "         185833263,  728106311, 1734255227, 1996564474, 1851084914,\n",
       "        2541161860, 3859978274, 1775165673, 2040300561, 2443686038,\n",
       "        4231260573,  588477771, 3519800569, 3411764798, 1456701468,\n",
       "        3903336105,  135650787, 3383188819, 1421161809, 1471743783,\n",
       "        3901713349, 3315852553, 3906615791, 1407733892, 1082761689,\n",
       "         768852001, 1210452981, 3910135040, 2827575821, 2213843553,\n",
       "        1665345935,  181187480, 4015791325, 1700626986,  652966454,\n",
       "         319159726, 1262300870,  203608194, 4252788241, 2819085712,\n",
       "         113709332, 3963489768, 1277886320, 2515683910,  731518167,\n",
       "        1325248137, 1425028143, 4057900909, 3729615119, 3724863529,\n",
       "        1240857110, 2125566598,  922978328,  302171258, 2915874586,\n",
       "         586455739,  101034281, 4222811999, 3268749168, 4017915804,\n",
       "        1901300520, 2260642860, 2153467226,  162676623, 2905390439,\n",
       "        2027086082,  692340351,  983870157, 1582575845, 1551160691,\n",
       "        3320179288,  993262796, 2113866150, 3641290945,  402071595,\n",
       "        3988404250,  193627968, 4132633989,  477952362, 3984044927,\n",
       "         961722581, 1036525621, 3539398839, 2115396018,   34158204,\n",
       "        1279380455, 2332401506,    7387022, 4170775784,  584427169,\n",
       "        2358454870,   48313116, 3334797041, 4226164418, 1550389843,\n",
       "        3514461857, 1796970968, 3220325017, 2286556333,  421523606,\n",
       "        1804706666, 1961178753, 1898522315, 2156681859, 2463148964,\n",
       "        4210603742,  336380030,  755271050, 3556577778, 1077131864,\n",
       "          10668798, 4002154261, 2198764555, 1817209457, 3917153101,\n",
       "         225946219, 1102566991, 1471596481,  408571767, 3195533592,\n",
       "        3192415152,  358514846, 4013679514,  903444058, 3349567370,\n",
       "        2000435710,  904240792,  894429044, 1055838507, 2563620834,\n",
       "        2120043078, 1459529444, 3080201692, 1709126601, 4167640846,\n",
       "        1989479577, 1564407776, 2669436709, 2874870691,  732473862,\n",
       "        2519227775, 3257856664, 1119979377, 2548157247,  286001080,\n",
       "        3224595657, 3750039160, 3163319171,  183888553,  534360122,\n",
       "        4072887091, 3233104871, 2349727748, 4258638346, 1430457742,\n",
       "        3863467628, 1486326648,   66504224, 2303001392,   86087216,\n",
       "        4253044963, 3386562724, 1304036959, 3992223253, 3150696883,\n",
       "         359906740,  197978130, 4155430287, 1184106101, 1843194346,\n",
       "        1587894288, 1336232198, 1765852116, 2062948638, 3617975213,\n",
       "        3761370459, 2909255864, 3470883215, 2034604699, 2342277032,\n",
       "        4003651736,  516061428,  514113496,  625312119, 1201428273,\n",
       "        1081581426,  170083253,   71169221, 1673749536, 4046508243,\n",
       "        3689477360, 2104582482, 3789661321, 4166597894, 1066793991,\n",
       "         855201340, 1301297010, 1610101859, 2891776716, 2217932841,\n",
       "        4221843464,  850461032, 3005899352,  591585505, 1034046931,\n",
       "        1153053078,  867607410, 3691931139,  378546775, 3719792200,\n",
       "        3514181990, 2541098988,  539041555, 3724291774, 1358341478,\n",
       "         835320341, 2766302572, 1274141786,  671689420, 3615390277,\n",
       "        2135964517, 1849255936, 1962443277, 1618574775, 2512435932,\n",
       "        1320023138, 3140373252, 1875188064,  597505859,  341624923,\n",
       "        1889788800, 1541906232, 4076649718, 1160700200, 3882864388,\n",
       "        3840631384, 3793686246,  970143792,  417680531, 1355179056,\n",
       "        2956356556, 4056283290,  610581907, 4291534824, 1176678238,\n",
       "        3984720181, 4068853262, 3756586747, 4229896272,  526211243,\n",
       "        2214591656, 2179244632, 1063327706, 1037830944, 3303341039,\n",
       "         638807011, 2276302173,  632717513, 3635923583, 1740475650,\n",
       "         972281444,  887913419, 4038781138, 2150850701], dtype=uint32), 26, 0, 0.0)"
      ]
     },
     "execution_count": 23,
     "metadata": {},
     "output_type": "execute_result"
    }
   ],
   "source": [
    "x.get_state()"
   ]
  },
  {
   "cell_type": "markdown",
   "metadata": {},
   "source": [
    "numpy.random.set_state can be used to capture and restore the state of the random number generator. You use to restore different states of the generator easily. "
   ]
  },
  {
   "cell_type": "code",
   "execution_count": 26,
   "metadata": {},
   "outputs": [],
   "source": [
    "state = np.random.get_state()\n",
    "#np.random.set_state(state)"
   ]
  },
  {
   "cell_type": "code",
   "execution_count": null,
   "metadata": {},
   "outputs": [],
   "source": []
  }
 ],
 "metadata": {
  "kernelspec": {
   "display_name": "Python 3",
   "language": "python",
   "name": "python3"
  },
  "language_info": {
   "codemirror_mode": {
    "name": "ipython",
    "version": 3
   },
   "file_extension": ".py",
   "mimetype": "text/x-python",
   "name": "python",
   "nbconvert_exporter": "python",
   "pygments_lexer": "ipython3",
   "version": "3.7.1"
  }
 },
 "nbformat": 4,
 "nbformat_minor": 2
}
