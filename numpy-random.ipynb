{
 "cells": [
  {
   "cell_type": "markdown",
   "metadata": {},
   "source": [
    "# Analysing the numpy.random Package"
   ]
  },
  {
   "cell_type": "markdown",
   "metadata": {},
   "source": [
    "## Introduction"
   ]
  },
  {
   "cell_type": "code",
   "execution_count": 1,
   "metadata": {},
   "outputs": [],
   "source": [
    "import numpy as np"
   ]
  },
  {
   "cell_type": "markdown",
   "metadata": {},
   "source": [
    "NumPy (shorthand for Numerical Python) is a package used in Python for working with multidimensional arrays and matrices. An array is a data structure that contains a group of elements. Typically these elements are all of the same data type, such as an integer or string. Arrays are commonly used in computer programs to organize data so that a related set of values can be easily sorted or searched. When we add differnet dimensions to these arrays, simple operations such as addition can become quite complex. This library allows us to preform mathematical operations on these complex structures [2]. It also enables arithmetic reading and writing operations on large arrays of data without the need to write for or while loops [1].\n",
    "\n",
    "These multi dimensional array objects are know as ndarrays in numpy. Ndarrays are fast and flexible containers for large datasets in Python. Arrays enable you to perform mathematical operations on whole blocks of data using similar syntax to the equivalent operations between scalar elements[1]. NumPy can also be used with other packages such as matplotlib and Pandas to create plots and summarise stastical data.\n",
    "\n",
    "An important part of any simulation is the ability to generate random numbers. For this reason, NumPy has the random submodule[3]. The numpy.random module supplements the built-in Python random with functions for efficiently generating whole arrays of sample values from many kinds of probability distributions[1]. For example, you can get a 4 × 4 array of samples from the standard normal distribution using normal:"
   ]
  },
  {
   "cell_type": "code",
   "execution_count": 4,
   "metadata": {},
   "outputs": [
    {
     "data": {
      "text/plain": [
       "array([[-1.08320208, -0.07478909, -1.56516569, -0.13982385],\n",
       "       [-0.50080664,  0.90211497, -0.64876378, -0.00583632],\n",
       "       [-1.5868568 ,  0.5209545 , -2.37226891, -0.49053515],\n",
       "       [ 1.11793913, -1.69513175,  0.48972186,  0.13742339]])"
      ]
     },
     "execution_count": 4,
     "metadata": {},
     "output_type": "execute_result"
    }
   ],
   "source": [
    "example = np.random.normal(size=(4, 4))\n",
    "example"
   ]
  },
  {
   "cell_type": "markdown",
   "metadata": {},
   "source": [
    "Random numbers generators have a wide range of applications. For example, if you are investigating a system, and you know the statistical properties of this system (eg a binomial distriubtion), you could save alot of time. Instead of collecting sample data, you could simply use numpy.random to generate data that would be similar to the systems distribution. Preforming an experiment using randomly generated data is called a simulation[4]."
   ]
  },
  {
   "cell_type": "markdown",
   "metadata": {},
   "source": [
    "Numpy.random is very fast at generating sample data. In comparsion Python's standard random module will only sample one value at a time. If we look at the benchmark of these numpy.random is much faster for getting large samples[1]."
   ]
  },
  {
   "cell_type": "code",
   "execution_count": 9,
   "metadata": {},
   "outputs": [
    {
     "name": "stdout",
     "output_type": "stream",
     "text": [
      "1.27 s ± 49.1 ms per loop (mean ± std. dev. of 7 runs, 1 loop each)\n"
     ]
    }
   ],
   "source": [
    "from random import normalvariate\n",
    "N = 1000000\n",
    "# looking at built in random speed\n",
    "%timeit samples = [normalvariate(0, 1) for _ in range(N)]"
   ]
  },
  {
   "cell_type": "code",
   "execution_count": 8,
   "metadata": {},
   "outputs": [
    {
     "name": "stdout",
     "output_type": "stream",
     "text": [
      "44.3 ms ± 345 µs per loop (mean ± std. dev. of 7 runs, 10 loops each)\n"
     ]
    }
   ],
   "source": [
    "# looking at np.random speed\n",
    "%timeit np.random.normal(size=N)"
   ]
  },
  {
   "cell_type": "code",
   "execution_count": null,
   "metadata": {},
   "outputs": [],
   "source": []
  }
 ],
 "metadata": {
  "kernelspec": {
   "display_name": "Python 3",
   "language": "python",
   "name": "python3"
  },
  "language_info": {
   "codemirror_mode": {
    "name": "ipython",
    "version": 3
   },
   "file_extension": ".py",
   "mimetype": "text/x-python",
   "name": "python",
   "nbconvert_exporter": "python",
   "pygments_lexer": "ipython3",
   "version": "3.7.1"
  }
 },
 "nbformat": 4,
 "nbformat_minor": 2
}
